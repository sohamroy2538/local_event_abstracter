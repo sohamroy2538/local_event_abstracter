{
 "cells": [
  {
   "cell_type": "code",
   "execution_count": 7,
   "metadata": {},
   "outputs": [],
   "source": [
    "from utils.utils import *\n",
    "from utils.prompt_generate import *\n",
    "from shop import shop\n",
    "from llm_model_class import llm_model_class \n"
   ]
  },
  {
   "cell_type": "code",
   "execution_count": 2,
   "metadata": {},
   "outputs": [],
   "source": [
    "date_day = get_days_dates()\n",
    "\n",
    "prompt1 = prompt_generate_club(date_day[0] , date_day[1])\n",
    "prompt2 = prompt_generate_club(date_day[2] , date_day[3])\n",
    "prompt3 = prompt_generate_club(date_day[4] , date_day[5])"
   ]
  },
  {
   "cell_type": "code",
   "execution_count": 3,
   "metadata": {},
   "outputs": [],
   "source": [
    "#create model class\n",
    "llm_model = llm_model_class(\"anthropic\")"
   ]
  },
  {
   "cell_type": "code",
   "execution_count": 4,
   "metadata": {},
   "outputs": [],
   "source": [
    "#create the shop\n",
    "garage = shop(\"garage\" , \"https://garage-sb.de/veranstaltungen/\")"
   ]
  },
  {
   "cell_type": "code",
   "execution_count": 5,
   "metadata": {},
   "outputs": [],
   "source": [
    "result = garage.generate_chain(llm_model , prompt1, prompt2, prompt3)"
   ]
  },
  {
   "cell_type": "code",
   "execution_count": 8,
   "metadata": {},
   "outputs": [],
   "source": [
    "prompt_consolidate = prompt_consolidate_club()\n",
    "final_result = garage.generate_chain(llm_model , prompt_consolidate , input = ' '.join(result) )"
   ]
  },
  {
   "cell_type": "code",
   "execution_count": 10,
   "metadata": {},
   "outputs": [
    {
     "name": "stdout",
     "output_type": "stream",
     "text": [
      "Based on the information provided, here is a brief summary of the events happening on the specific dates:\n",
      "\n",
      "May 22, 2024 (Wednesday):\n",
      "No specific event mentioned for this date.\n",
      "\n",
      "May 23, 2024 (Thursday): \n",
      "No specific event mentioned for this date.\n",
      "\n",
      "May 24, 2024 (Friday):\n",
      "No specific event mentioned for this date.\n",
      "\n",
      "The closest events around these dates are:\n",
      "\n",
      "May 25, 2024 (Saturday):\n",
      "80s vs. 90s party with DJs at Garage\n",
      "\n",
      "May 29, 2024 (Wednesday): \n",
      "The Eighties Party at Garage\n",
      "\n",
      "There are no recurring weekly or biweekly events explicitly listed for Wednesdays, Thursdays, or Fridays at this venue based on the provided information.\n"
     ]
    }
   ],
   "source": [
    "print(final_result[0])"
   ]
  }
 ],
 "metadata": {
  "kernelspec": {
   "display_name": ".venv",
   "language": "python",
   "name": "python3"
  },
  "language_info": {
   "codemirror_mode": {
    "name": "ipython",
    "version": 3
   },
   "file_extension": ".py",
   "mimetype": "text/x-python",
   "name": "python",
   "nbconvert_exporter": "python",
   "pygments_lexer": "ipython3",
   "version": "3.9.0"
  },
  "orig_nbformat": 4
 },
 "nbformat": 4,
 "nbformat_minor": 2
}
